{
  "cells": [
    {
      "metadata": {
        "_uuid": "8f2839f25d086af736a60e9eeb907d3b93b6e0e5",
        "_cell_guid": "b1076dfc-b9ad-4769-8c92-a6c4dae69d19",
        "trusted": true,
        "collapsed": true
      },
      "cell_type": "markdown",
      "source": "# Iris Dataset Exploration and Training"
    },
    {
      "metadata": {
        "_cell_guid": "79c7e3d0-c299-4dcb-8224-4455121ee9b0",
        "_uuid": "d629ff2d2480ee46fbb7e2d37f6b5fab8052498a",
        "trusted": true,
        "scrolled": true,
        "collapsed": true
      },
      "cell_type": "code",
      "source": "import numpy as np\nimport pandas as pd\nfrom sklearn import datasets\n\niris = datasets.load_iris()\n\ndf = pd.DataFrame(data= np.c_[iris['data'], iris['target']],\n                     columns= iris['feature_names'] + ['target'])\nprint(df.info())\ndf.head()",
      "execution_count": null,
      "outputs": []
    },
    {
      "metadata": {
        "_uuid": "9f80edeb0f59d95874776103d5334385540ca377"
      },
      "cell_type": "markdown",
      "source": "## Analysing the sepal length"
    },
    {
      "metadata": {
        "trusted": true,
        "_uuid": "f97a5aeb13572db2edd9140f09ee52014fa7774b",
        "collapsed": true
      },
      "cell_type": "code",
      "source": "import pandas as pd\nimport matplotlib.pyplot as plt\n%matplotlib inline\n\ndf.plot(y='sepal length (cm)', kind='box', title='Sepal length analysis')\n\ndf.plot(y='sepal length (cm)', kind='hist', bins=30, range=(4,8), normed=True, title='Normalized histogram for sepal length')\n\ndf.plot(y='sepal length (cm)', kind='hist', bins=30, range=(4,8), cumulative=True, normed=True, title='Cumulative distribution function (CDF) for sepal length')",
      "execution_count": null,
      "outputs": []
    },
    {
      "metadata": {
        "trusted": true,
        "collapsed": true,
        "_uuid": "c2c7c94fd2f814a564b3722e796eb47ba0872713"
      },
      "cell_type": "code",
      "source": "## Analysing the sepal width",
      "execution_count": null,
      "outputs": []
    },
    {
      "metadata": {
        "trusted": true,
        "_uuid": "a5ed19083db427173b8fdde54250eb13050f4089",
        "collapsed": true
      },
      "cell_type": "code",
      "source": "import pandas as pd\nimport matplotlib.pyplot as plt\n%matplotlib inline\n\ndf.plot(y='sepal width (cm)', kind='box', title='Sepal width analysis')\n\ndf.plot(y='sepal width (cm)', kind='hist', bins=30, range=(2,4.5), normed=True, title='Normalized histogram for sepal width')\n\ndf.plot(y='sepal width (cm)', kind='hist', bins=30, range=(2,4.5), cumulative=True, normed=True, title='Cumulative distribution function (CDF) for sepal width')",
      "execution_count": null,
      "outputs": []
    },
    {
      "metadata": {
        "trusted": true,
        "collapsed": true,
        "_uuid": "ae5c2bc5a88e8b6415be96cf1ab467b627646733"
      },
      "cell_type": "code",
      "source": "## Statistical EDA",
      "execution_count": null,
      "outputs": []
    },
    {
      "metadata": {
        "trusted": true,
        "_uuid": "9e45a56797267a3808377cec391ccd4bf3aa406d"
      },
      "cell_type": "code",
      "source": "print(df.describe())\nprint(df.median())\nprint(df.mean())\nprint(df.std())\n\ndf.plot(kind= 'box') \n\ndf['target'].describe()\ndf['target'].unique()",
      "execution_count": null,
      "outputs": []
    },
    {
      "metadata": {
        "trusted": true,
        "_uuid": "176a5574e35d8f73f02079354269805cc8d2042b",
        "collapsed": true
      },
      "cell_type": "code",
      "source": "from sklearn.model_selection import train_test_split\n\nX = iris.data\ny = iris.target\n\nX_train, X_test, y_train, y_test = train_test_split(X, y, test_size=0.3, random_state=0)\nprint('There are {} samples in the training set and {} samples in the test set'.format(\nX_train.shape[0], X_test.shape[0]))",
      "execution_count": null,
      "outputs": []
    },
    {
      "metadata": {
        "trusted": true,
        "collapsed": true,
        "_uuid": "ad75605741fe4ef1722c8ca721b30369c6aa90ea"
      },
      "cell_type": "code",
      "source": "from sklearn.preprocessing import StandardScaler\n\nsc = StandardScaler()\n\nsc.fit(X_train)\n\nX_train_std = sc.transform(X_train)\nX_test_std = sc.transform(X_test)\n\nX_combined_std = np.vstack((X_train_std, X_test_std))\ny_combined = np.hstack((y_train, y_test))\nprint(\"Data scaled\")",
      "execution_count": null,
      "outputs": []
    },
    {
      "metadata": {
        "trusted": true,
        "collapsed": true,
        "_uuid": "1ac465b37cf6fc7f5712227b6bbe9a070bfc06e3"
      },
      "cell_type": "code",
      "source": "from matplotlib.colors import ListedColormap\nimport matplotlib.pyplot as plt\n%matplotlib inline\n\nmarkers = ('s', 'x', 'o')\ncolors = ('red', 'blue', 'lightgreen')\ncmap = ListedColormap(colors[:len(np.unique(y_test))])\nfor idx, cl in enumerate(np.unique(y)):\n    plt.scatter(x=X[y == cl, 0], y=X[y == cl, 1],\n               c=cmap(idx), marker=markers[idx], label=cl)",
      "execution_count": null,
      "outputs": []
    },
    {
      "metadata": {
        "trusted": true,
        "collapsed": true,
        "_uuid": "5096f199e5423064a4002e48093bbc0a59110424"
      },
      "cell_type": "code",
      "source": "from sklearn.linear_model import Perceptron\nfrom sklearn.metrics import accuracy_score\n\nppn = Perceptron(max_iter=32, eta0=0.1, random_state=0)\nppn.fit(X_train_std, y_train)\ny_pred = ppn.predict(X_test_std)\nprint('Misclassfied samples: %d' % (y_test != y_pred).sum())\nprint ('Accuracy: %.2f' % accuracy_score(y_test, y_pred))",
      "execution_count": null,
      "outputs": []
    },
    {
      "metadata": {
        "trusted": true,
        "collapsed": true,
        "_uuid": "3b702c17622055b8af1025ec4092fa6e990343ea"
      },
      "cell_type": "code",
      "source": "from sklearn.svm import SVC\n\nC = 1.0  # SVM regularization parameter\nsvm = SVC(kernel='linear', C=C, gamma=0.1)\nsvm.fit(X_train_std, y_train)\n\nprint('The accuracy of the linear svm classifier on training data is {:.2f} out of 1'.format(svm.score(X_train_std, y_train)))\nprint('The accuracy of the linear svm classifier on test data is {:.2f} out of 1'.format(svm.score(X_test_std, y_test)))",
      "execution_count": null,
      "outputs": []
    },
    {
      "metadata": {
        "trusted": true,
        "collapsed": true,
        "_uuid": "a010a4eb69c302772d95c3b2dde4cb438b5fea0a"
      },
      "cell_type": "code",
      "source": "from sklearn.svm import SVC\n\nsvm = SVC(kernel='rbf', random_state=0, gamma=.10, C=1.0)\nsvm.fit(X_train_std, y_train)\n\nprint('The accuracy of the svm classifier on training data is {:.2f} out of 1'.format(svm.score(X_train_std, y_train)))\nprint('The accuracy of the svm classifier on test data is {:.2f} out of 1'.format(svm.score(X_test_std, y_test)))",
      "execution_count": null,
      "outputs": []
    },
    {
      "metadata": {
        "trusted": true,
        "collapsed": true,
        "_uuid": "701ed09ab11ef32934127356a8547c32fe05df82"
      },
      "cell_type": "code",
      "source": "from sklearn.svm import SVC\n\nsvm = SVC(kernel='poly', degree=3, C=1.0)\nsvm.fit(X_train_std, y_train)\n\nprint('The accuracy of the svm classifier on training data is {:.2f} out of 1'.format(svm.score(X_train_std, y_train)))\nprint('The accuracy of the svm classifier on test data is {:.2f} out of 1'.format(svm.score(X_test_std, y_test)))",
      "execution_count": null,
      "outputs": []
    },
    {
      "metadata": {
        "trusted": true,
        "collapsed": true,
        "_uuid": "25dc33b7f581bc2cc115e31f86f913d0c28e6725"
      },
      "cell_type": "code",
      "source": "from sklearn.decomposition import PCA\n\npca = PCA(n_components=3)\npca.fit(X_train_std, y_train)\nprint('The accuracy of the svm classifier on training data is {:.2f} out of 1'.format(svm.score(X_train_std, y_train)))\nprint('The accuracy of the svm classifier on test data is {:.2f} out of 1'.format(svm.score(X_test_std, y_test)))",
      "execution_count": null,
      "outputs": []
    },
    {
      "metadata": {
        "trusted": true,
        "collapsed": true,
        "_uuid": "2ec63fd1fb345ee4b8b33da3c9f5044197639a8c"
      },
      "cell_type": "code",
      "source": "from sklearn.neighbors import KNeighborsClassifier\n\nknn = KNeighborsClassifier(n_neighbors=6, p=2, metric='minkowski')\nknn.fit(X_train_std, y_train)\n\nprint('The accuracy of the knn classifier is {:.2f} out of 1 on training data'.format(knn.score(X_train_std, y_train)))\nprint('The accuracy of the knn classifier is {:.2f} out of 1 on test data'.format(knn.score(X_test_std, y_test)))",
      "execution_count": null,
      "outputs": []
    },
    {
      "metadata": {
        "trusted": true,
        "collapsed": true,
        "_uuid": "8d2231f544c4d9628b2014584926b1c4423a38ca"
      },
      "cell_type": "code",
      "source": "",
      "execution_count": null,
      "outputs": []
    }
  ],
  "metadata": {
    "kernelspec": {
      "display_name": "Python 3",
      "language": "python",
      "name": "python3"
    },
    "language_info": {
      "name": "python",
      "version": "3.6.6",
      "mimetype": "text/x-python",
      "codemirror_mode": {
        "name": "ipython",
        "version": 3
      },
      "pygments_lexer": "ipython3",
      "nbconvert_exporter": "python",
      "file_extension": ".py"
    }
  },
  "nbformat": 4,
  "nbformat_minor": 1
}